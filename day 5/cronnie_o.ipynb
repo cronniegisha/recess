{
 "cells": [
  {
   "cell_type": "code",
   "execution_count": null,
   "metadata": {},
   "outputs": [],
   "source": [
    "# Import Libraries\n",
    "#import numpy as np\n",
    "#import pandas as pd\n",
    "#import matplotlib.pyplot as plt\n",
    "#import seaborn as sns\n",
    "#Control Display of seaborn data\n",
    "#pd.options.display.max_columns=50\n",
    "#sns.set(style=\"darkgrid\", rc={\"axes.facecolor\":\"#CAF1DE\"})\n",
    "\n"
   ]
  }
 ],
 "metadata": {
  "language_info": {
   "name": "python"
  },
  "orig_nbformat": 4
 },
 "nbformat": 4,
 "nbformat_minor": 2
}
